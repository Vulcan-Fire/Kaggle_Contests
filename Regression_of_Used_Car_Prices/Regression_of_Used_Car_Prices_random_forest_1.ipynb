{
  "nbformat": 4,
  "nbformat_minor": 0,
  "metadata": {
    "colab": {
      "provenance": [],
      "authorship_tag": "ABX9TyPVA026yn6z5rs0jRU4b6UK",
      "include_colab_link": true
    },
    "kernelspec": {
      "name": "python3",
      "display_name": "Python 3"
    },
    "language_info": {
      "name": "python"
    }
  },
  "cells": [
    {
      "cell_type": "markdown",
      "metadata": {
        "id": "view-in-github",
        "colab_type": "text"
      },
      "source": [
        "<a href=\"https://colab.research.google.com/github/Vulcan-Fire/Kaggle_Contests/blob/main/Regression_of_Used_Car_Prices/Regression_of_Used_Car_Prices_random_forest_1.ipynb\" target=\"_parent\"><img src=\"https://colab.research.google.com/assets/colab-badge.svg\" alt=\"Open In Colab\"/></a>"
      ]
    },
    {
      "cell_type": "markdown",
      "source": [],
      "metadata": {
        "id": "v0F-FmldCSKM"
      }
    },
    {
      "cell_type": "markdown",
      "source": [
        "First we include libraries"
      ],
      "metadata": {
        "id": "03p7eVpmCXkd"
      }
    },
    {
      "cell_type": "code",
      "source": [
        "import pandas as pd\n",
        "import numpy as np\n",
        "import matplotlib.pyplot as plt\n",
        "import seaborn as sns"
      ],
      "metadata": {
        "id": "_8gpU_YdCd1F"
      },
      "execution_count": 1,
      "outputs": []
    },
    {
      "cell_type": "markdown",
      "source": [
        "Load the train and test datasets"
      ],
      "metadata": {
        "id": "K-eF3at_DJWC"
      }
    },
    {
      "cell_type": "code",
      "source": [
        "cars_file_path = '/content/train.csv'\n",
        "test_file_path = '/content/test.csv'\n",
        "\n",
        "cars_data = pd.read_csv(cars_file_path)\n",
        "cars_data.describe()\n",
        "\n",
        "test_data = pd.read_csv(test_file_path)\n",
        "test_data.describe()"
      ],
      "metadata": {
        "colab": {
          "base_uri": "https://localhost:8080/",
          "height": 300
        },
        "id": "ZKPMPz1HCs8u",
        "outputId": "72790990-97db-47fa-f524-1699945a3467"
      },
      "execution_count": 38,
      "outputs": [
        {
          "output_type": "execute_result",
          "data": {
            "text/plain": [
              "                  id     model_year         milage\n",
              "count  125690.000000  125690.000000  125690.000000\n",
              "mean   251377.500000    2015.797526   66042.581510\n",
              "std     36283.722005       5.673797   50223.858435\n",
              "min    188533.000000    1974.000000     100.000000\n",
              "25%    219955.250000    2013.000000   24500.000000\n",
              "50%    251377.500000    2017.000000   57500.000000\n",
              "75%    282799.750000    2020.000000   95798.000000\n",
              "max    314222.000000    2024.000000  405000.000000"
            ],
            "text/html": [
              "\n",
              "  <div id=\"df-3d6427e7-a12f-4bde-ac00-09e7cccc6928\" class=\"colab-df-container\">\n",
              "    <div>\n",
              "<style scoped>\n",
              "    .dataframe tbody tr th:only-of-type {\n",
              "        vertical-align: middle;\n",
              "    }\n",
              "\n",
              "    .dataframe tbody tr th {\n",
              "        vertical-align: top;\n",
              "    }\n",
              "\n",
              "    .dataframe thead th {\n",
              "        text-align: right;\n",
              "    }\n",
              "</style>\n",
              "<table border=\"1\" class=\"dataframe\">\n",
              "  <thead>\n",
              "    <tr style=\"text-align: right;\">\n",
              "      <th></th>\n",
              "      <th>id</th>\n",
              "      <th>model_year</th>\n",
              "      <th>milage</th>\n",
              "    </tr>\n",
              "  </thead>\n",
              "  <tbody>\n",
              "    <tr>\n",
              "      <th>count</th>\n",
              "      <td>125690.000000</td>\n",
              "      <td>125690.000000</td>\n",
              "      <td>125690.000000</td>\n",
              "    </tr>\n",
              "    <tr>\n",
              "      <th>mean</th>\n",
              "      <td>251377.500000</td>\n",
              "      <td>2015.797526</td>\n",
              "      <td>66042.581510</td>\n",
              "    </tr>\n",
              "    <tr>\n",
              "      <th>std</th>\n",
              "      <td>36283.722005</td>\n",
              "      <td>5.673797</td>\n",
              "      <td>50223.858435</td>\n",
              "    </tr>\n",
              "    <tr>\n",
              "      <th>min</th>\n",
              "      <td>188533.000000</td>\n",
              "      <td>1974.000000</td>\n",
              "      <td>100.000000</td>\n",
              "    </tr>\n",
              "    <tr>\n",
              "      <th>25%</th>\n",
              "      <td>219955.250000</td>\n",
              "      <td>2013.000000</td>\n",
              "      <td>24500.000000</td>\n",
              "    </tr>\n",
              "    <tr>\n",
              "      <th>50%</th>\n",
              "      <td>251377.500000</td>\n",
              "      <td>2017.000000</td>\n",
              "      <td>57500.000000</td>\n",
              "    </tr>\n",
              "    <tr>\n",
              "      <th>75%</th>\n",
              "      <td>282799.750000</td>\n",
              "      <td>2020.000000</td>\n",
              "      <td>95798.000000</td>\n",
              "    </tr>\n",
              "    <tr>\n",
              "      <th>max</th>\n",
              "      <td>314222.000000</td>\n",
              "      <td>2024.000000</td>\n",
              "      <td>405000.000000</td>\n",
              "    </tr>\n",
              "  </tbody>\n",
              "</table>\n",
              "</div>\n",
              "    <div class=\"colab-df-buttons\">\n",
              "\n",
              "  <div class=\"colab-df-container\">\n",
              "    <button class=\"colab-df-convert\" onclick=\"convertToInteractive('df-3d6427e7-a12f-4bde-ac00-09e7cccc6928')\"\n",
              "            title=\"Convert this dataframe to an interactive table.\"\n",
              "            style=\"display:none;\">\n",
              "\n",
              "  <svg xmlns=\"http://www.w3.org/2000/svg\" height=\"24px\" viewBox=\"0 -960 960 960\">\n",
              "    <path d=\"M120-120v-720h720v720H120Zm60-500h600v-160H180v160Zm220 220h160v-160H400v160Zm0 220h160v-160H400v160ZM180-400h160v-160H180v160Zm440 0h160v-160H620v160ZM180-180h160v-160H180v160Zm440 0h160v-160H620v160Z\"/>\n",
              "  </svg>\n",
              "    </button>\n",
              "\n",
              "  <style>\n",
              "    .colab-df-container {\n",
              "      display:flex;\n",
              "      gap: 12px;\n",
              "    }\n",
              "\n",
              "    .colab-df-convert {\n",
              "      background-color: #E8F0FE;\n",
              "      border: none;\n",
              "      border-radius: 50%;\n",
              "      cursor: pointer;\n",
              "      display: none;\n",
              "      fill: #1967D2;\n",
              "      height: 32px;\n",
              "      padding: 0 0 0 0;\n",
              "      width: 32px;\n",
              "    }\n",
              "\n",
              "    .colab-df-convert:hover {\n",
              "      background-color: #E2EBFA;\n",
              "      box-shadow: 0px 1px 2px rgba(60, 64, 67, 0.3), 0px 1px 3px 1px rgba(60, 64, 67, 0.15);\n",
              "      fill: #174EA6;\n",
              "    }\n",
              "\n",
              "    .colab-df-buttons div {\n",
              "      margin-bottom: 4px;\n",
              "    }\n",
              "\n",
              "    [theme=dark] .colab-df-convert {\n",
              "      background-color: #3B4455;\n",
              "      fill: #D2E3FC;\n",
              "    }\n",
              "\n",
              "    [theme=dark] .colab-df-convert:hover {\n",
              "      background-color: #434B5C;\n",
              "      box-shadow: 0px 1px 3px 1px rgba(0, 0, 0, 0.15);\n",
              "      filter: drop-shadow(0px 1px 2px rgba(0, 0, 0, 0.3));\n",
              "      fill: #FFFFFF;\n",
              "    }\n",
              "  </style>\n",
              "\n",
              "    <script>\n",
              "      const buttonEl =\n",
              "        document.querySelector('#df-3d6427e7-a12f-4bde-ac00-09e7cccc6928 button.colab-df-convert');\n",
              "      buttonEl.style.display =\n",
              "        google.colab.kernel.accessAllowed ? 'block' : 'none';\n",
              "\n",
              "      async function convertToInteractive(key) {\n",
              "        const element = document.querySelector('#df-3d6427e7-a12f-4bde-ac00-09e7cccc6928');\n",
              "        const dataTable =\n",
              "          await google.colab.kernel.invokeFunction('convertToInteractive',\n",
              "                                                    [key], {});\n",
              "        if (!dataTable) return;\n",
              "\n",
              "        const docLinkHtml = 'Like what you see? Visit the ' +\n",
              "          '<a target=\"_blank\" href=https://colab.research.google.com/notebooks/data_table.ipynb>data table notebook</a>'\n",
              "          + ' to learn more about interactive tables.';\n",
              "        element.innerHTML = '';\n",
              "        dataTable['output_type'] = 'display_data';\n",
              "        await google.colab.output.renderOutput(dataTable, element);\n",
              "        const docLink = document.createElement('div');\n",
              "        docLink.innerHTML = docLinkHtml;\n",
              "        element.appendChild(docLink);\n",
              "      }\n",
              "    </script>\n",
              "  </div>\n",
              "\n",
              "\n",
              "<div id=\"df-e0ec26b7-874f-4356-b731-dfa1ad999c0c\">\n",
              "  <button class=\"colab-df-quickchart\" onclick=\"quickchart('df-e0ec26b7-874f-4356-b731-dfa1ad999c0c')\"\n",
              "            title=\"Suggest charts\"\n",
              "            style=\"display:none;\">\n",
              "\n",
              "<svg xmlns=\"http://www.w3.org/2000/svg\" height=\"24px\"viewBox=\"0 0 24 24\"\n",
              "     width=\"24px\">\n",
              "    <g>\n",
              "        <path d=\"M19 3H5c-1.1 0-2 .9-2 2v14c0 1.1.9 2 2 2h14c1.1 0 2-.9 2-2V5c0-1.1-.9-2-2-2zM9 17H7v-7h2v7zm4 0h-2V7h2v10zm4 0h-2v-4h2v4z\"/>\n",
              "    </g>\n",
              "</svg>\n",
              "  </button>\n",
              "\n",
              "<style>\n",
              "  .colab-df-quickchart {\n",
              "      --bg-color: #E8F0FE;\n",
              "      --fill-color: #1967D2;\n",
              "      --hover-bg-color: #E2EBFA;\n",
              "      --hover-fill-color: #174EA6;\n",
              "      --disabled-fill-color: #AAA;\n",
              "      --disabled-bg-color: #DDD;\n",
              "  }\n",
              "\n",
              "  [theme=dark] .colab-df-quickchart {\n",
              "      --bg-color: #3B4455;\n",
              "      --fill-color: #D2E3FC;\n",
              "      --hover-bg-color: #434B5C;\n",
              "      --hover-fill-color: #FFFFFF;\n",
              "      --disabled-bg-color: #3B4455;\n",
              "      --disabled-fill-color: #666;\n",
              "  }\n",
              "\n",
              "  .colab-df-quickchart {\n",
              "    background-color: var(--bg-color);\n",
              "    border: none;\n",
              "    border-radius: 50%;\n",
              "    cursor: pointer;\n",
              "    display: none;\n",
              "    fill: var(--fill-color);\n",
              "    height: 32px;\n",
              "    padding: 0;\n",
              "    width: 32px;\n",
              "  }\n",
              "\n",
              "  .colab-df-quickchart:hover {\n",
              "    background-color: var(--hover-bg-color);\n",
              "    box-shadow: 0 1px 2px rgba(60, 64, 67, 0.3), 0 1px 3px 1px rgba(60, 64, 67, 0.15);\n",
              "    fill: var(--button-hover-fill-color);\n",
              "  }\n",
              "\n",
              "  .colab-df-quickchart-complete:disabled,\n",
              "  .colab-df-quickchart-complete:disabled:hover {\n",
              "    background-color: var(--disabled-bg-color);\n",
              "    fill: var(--disabled-fill-color);\n",
              "    box-shadow: none;\n",
              "  }\n",
              "\n",
              "  .colab-df-spinner {\n",
              "    border: 2px solid var(--fill-color);\n",
              "    border-color: transparent;\n",
              "    border-bottom-color: var(--fill-color);\n",
              "    animation:\n",
              "      spin 1s steps(1) infinite;\n",
              "  }\n",
              "\n",
              "  @keyframes spin {\n",
              "    0% {\n",
              "      border-color: transparent;\n",
              "      border-bottom-color: var(--fill-color);\n",
              "      border-left-color: var(--fill-color);\n",
              "    }\n",
              "    20% {\n",
              "      border-color: transparent;\n",
              "      border-left-color: var(--fill-color);\n",
              "      border-top-color: var(--fill-color);\n",
              "    }\n",
              "    30% {\n",
              "      border-color: transparent;\n",
              "      border-left-color: var(--fill-color);\n",
              "      border-top-color: var(--fill-color);\n",
              "      border-right-color: var(--fill-color);\n",
              "    }\n",
              "    40% {\n",
              "      border-color: transparent;\n",
              "      border-right-color: var(--fill-color);\n",
              "      border-top-color: var(--fill-color);\n",
              "    }\n",
              "    60% {\n",
              "      border-color: transparent;\n",
              "      border-right-color: var(--fill-color);\n",
              "    }\n",
              "    80% {\n",
              "      border-color: transparent;\n",
              "      border-right-color: var(--fill-color);\n",
              "      border-bottom-color: var(--fill-color);\n",
              "    }\n",
              "    90% {\n",
              "      border-color: transparent;\n",
              "      border-bottom-color: var(--fill-color);\n",
              "    }\n",
              "  }\n",
              "</style>\n",
              "\n",
              "  <script>\n",
              "    async function quickchart(key) {\n",
              "      const quickchartButtonEl =\n",
              "        document.querySelector('#' + key + ' button');\n",
              "      quickchartButtonEl.disabled = true;  // To prevent multiple clicks.\n",
              "      quickchartButtonEl.classList.add('colab-df-spinner');\n",
              "      try {\n",
              "        const charts = await google.colab.kernel.invokeFunction(\n",
              "            'suggestCharts', [key], {});\n",
              "      } catch (error) {\n",
              "        console.error('Error during call to suggestCharts:', error);\n",
              "      }\n",
              "      quickchartButtonEl.classList.remove('colab-df-spinner');\n",
              "      quickchartButtonEl.classList.add('colab-df-quickchart-complete');\n",
              "    }\n",
              "    (() => {\n",
              "      let quickchartButtonEl =\n",
              "        document.querySelector('#df-e0ec26b7-874f-4356-b731-dfa1ad999c0c button');\n",
              "      quickchartButtonEl.style.display =\n",
              "        google.colab.kernel.accessAllowed ? 'block' : 'none';\n",
              "    })();\n",
              "  </script>\n",
              "</div>\n",
              "\n",
              "    </div>\n",
              "  </div>\n"
            ],
            "application/vnd.google.colaboratory.intrinsic+json": {
              "type": "dataframe",
              "summary": "{\n  \"name\": \"test_data\",\n  \"rows\": 8,\n  \"fields\": [\n    {\n      \"column\": \"id\",\n      \"properties\": {\n        \"dtype\": \"number\",\n        \"std\": 90569.44771059931,\n        \"min\": 36283.72200450224,\n        \"max\": 314222.0,\n        \"num_unique_values\": 7,\n        \"samples\": [\n          125690.0,\n          251377.5,\n          282799.75\n        ],\n        \"semantic_type\": \"\",\n        \"description\": \"\"\n      }\n    },\n    {\n      \"column\": \"model_year\",\n      \"properties\": {\n        \"dtype\": \"number\",\n        \"std\": 43834.14306790562,\n        \"min\": 5.673796587627867,\n        \"max\": 125690.0,\n        \"num_unique_values\": 8,\n        \"samples\": [\n          2015.7975256583659,\n          2017.0,\n          125690.0\n        ],\n        \"semantic_type\": \"\",\n        \"description\": \"\"\n      }\n    },\n    {\n      \"column\": \"milage\",\n      \"properties\": {\n        \"dtype\": \"number\",\n        \"std\": 128030.51842961427,\n        \"min\": 100.0,\n        \"max\": 405000.0,\n        \"num_unique_values\": 8,\n        \"samples\": [\n          66042.58151006444,\n          57500.0,\n          125690.0\n        ],\n        \"semantic_type\": \"\",\n        \"description\": \"\"\n      }\n    }\n  ]\n}"
            }
          },
          "metadata": {},
          "execution_count": 38
        }
      ]
    },
    {
      "cell_type": "markdown",
      "source": [
        "Checking the head of the loaded data"
      ],
      "metadata": {
        "id": "ByDcddVZDsEG"
      }
    },
    {
      "cell_type": "code",
      "source": [
        "print(cars_data.head())"
      ],
      "metadata": {
        "colab": {
          "base_uri": "https://localhost:8080/"
        },
        "id": "vVEw8DARDrMg",
        "outputId": "475a63fc-53ee-4e89-9c24-b2758aa4338c"
      },
      "execution_count": 8,
      "outputs": [
        {
          "output_type": "stream",
          "name": "stdout",
          "text": [
            "   id          brand              model  model_year  milage      fuel_type  \\\n",
            "0   0           MINI      Cooper S Base        2007  213000       Gasoline   \n",
            "1   1        Lincoln              LS V8        2002  143250       Gasoline   \n",
            "2   2      Chevrolet  Silverado 2500 LT        2002  136731  E85 Flex Fuel   \n",
            "3   3        Genesis   G90 5.0 Ultimate        2017   19500       Gasoline   \n",
            "4   4  Mercedes-Benz        Metris Base        2021    7388       Gasoline   \n",
            "\n",
            "                                              engine  \\\n",
            "0       172.0HP 1.6L 4 Cylinder Engine Gasoline Fuel   \n",
            "1       252.0HP 3.9L 8 Cylinder Engine Gasoline Fuel   \n",
            "2  320.0HP 5.3L 8 Cylinder Engine Flex Fuel Capab...   \n",
            "3       420.0HP 5.0L 8 Cylinder Engine Gasoline Fuel   \n",
            "4       208.0HP 2.0L 4 Cylinder Engine Gasoline Fuel   \n",
            "\n",
            "                     transmission ext_col int_col  \\\n",
            "0                             A/T  Yellow    Gray   \n",
            "1                             A/T  Silver   Beige   \n",
            "2                             A/T    Blue    Gray   \n",
            "3  Transmission w/Dual Shift Mode   Black   Black   \n",
            "4                     7-Speed A/T   Black   Beige   \n",
            "\n",
            "                                 accident clean_title  price  \n",
            "0                           None reported         Yes   4200  \n",
            "1  At least 1 accident or damage reported         Yes   4999  \n",
            "2                           None reported         Yes  13900  \n",
            "3                           None reported         Yes  45000  \n",
            "4                           None reported         Yes  97500  \n"
          ]
        }
      ]
    },
    {
      "cell_type": "markdown",
      "source": [
        "Defining the feautres and the target"
      ],
      "metadata": {
        "id": "ZIGKvZNODeib"
      }
    },
    {
      "cell_type": "code",
      "source": [
        "y = cars_data.price\n",
        "features = ['brand', 'model', 'model_year', 'milage', 'fuel_type', 'engine', 'transmission', 'ext_col', 'int_col', 'accident', 'clean_title']\n",
        "X = cars_data[features]"
      ],
      "metadata": {
        "id": "Mdeoi5UxDd9a"
      },
      "execution_count": 9,
      "outputs": []
    },
    {
      "cell_type": "code",
      "source": [
        "from sklearn.preprocessing import LabelEncoder\n",
        "\n",
        "label_encoder = LabelEncoder()\n",
        "X['brand'] = label_encoder.fit_transform(X['brand'])\n",
        "test_data['brand'] = label_encoder.fit_transform(test_data['brand'])\n",
        "X['model'] = label_encoder.fit_transform(X['model'])\n",
        "test_data['model'] = label_encoder.fit_transform(test_data['model'])\n",
        "X['fuel_type'] = label_encoder.fit_transform(X['fuel_type'])\n",
        "test_data['fuel_type'] = label_encoder.fit_transform(test_data['fuel_type'])\n",
        "X['ext_col'] = label_encoder.fit_transform(X['ext_col'])\n",
        "test_data['ext_col'] = label_encoder.fit_transform(test_data['ext_col'])\n",
        "X['int_col'] = label_encoder.fit_transform(X['int_col'])\n",
        "test_data['int_col'] = label_encoder.fit_transform(test_data['int_col'])\n",
        "X['transmission'] = label_encoder.fit_transform(X['transmission'])\n",
        "test_data['transmission'] = label_encoder.fit_transform(test_data['transmission'])\n",
        "X['clean_title'] = label_encoder.fit_transform(X['clean_title'])\n",
        "test_data['clean_title'] = label_encoder.fit_transform(test_data['clean_title'])\n",
        "X['accident'] = label_encoder.fit_transform(X['accident'])\n",
        "test_data['accident'] = label_encoder.fit_transform(test_data['accident'])\n",
        "X['engine'] = label_encoder.fit_transform(X['engine'])\n",
        "test_data['engine'] = label_encoder.fit_transform(test_data['engine'])"
      ],
      "metadata": {
        "colab": {
          "base_uri": "https://localhost:8080/"
        },
        "id": "u9efzqYPLrJ4",
        "outputId": "d0a5d32b-2b02-429a-9cf1-e32398bd19a0"
      },
      "execution_count": 25,
      "outputs": [
        {
          "output_type": "stream",
          "name": "stderr",
          "text": [
            "<ipython-input-25-eb8995ca1490>:4: SettingWithCopyWarning: \n",
            "A value is trying to be set on a copy of a slice from a DataFrame.\n",
            "Try using .loc[row_indexer,col_indexer] = value instead\n",
            "\n",
            "See the caveats in the documentation: https://pandas.pydata.org/pandas-docs/stable/user_guide/indexing.html#returning-a-view-versus-a-copy\n",
            "  X['brand'] = label_encoder.fit_transform(X['brand'])\n",
            "<ipython-input-25-eb8995ca1490>:6: SettingWithCopyWarning: \n",
            "A value is trying to be set on a copy of a slice from a DataFrame.\n",
            "Try using .loc[row_indexer,col_indexer] = value instead\n",
            "\n",
            "See the caveats in the documentation: https://pandas.pydata.org/pandas-docs/stable/user_guide/indexing.html#returning-a-view-versus-a-copy\n",
            "  X['model'] = label_encoder.fit_transform(X['model'])\n",
            "<ipython-input-25-eb8995ca1490>:8: SettingWithCopyWarning: \n",
            "A value is trying to be set on a copy of a slice from a DataFrame.\n",
            "Try using .loc[row_indexer,col_indexer] = value instead\n",
            "\n",
            "See the caveats in the documentation: https://pandas.pydata.org/pandas-docs/stable/user_guide/indexing.html#returning-a-view-versus-a-copy\n",
            "  X['fuel_type'] = label_encoder.fit_transform(X['fuel_type'])\n",
            "<ipython-input-25-eb8995ca1490>:10: SettingWithCopyWarning: \n",
            "A value is trying to be set on a copy of a slice from a DataFrame.\n",
            "Try using .loc[row_indexer,col_indexer] = value instead\n",
            "\n",
            "See the caveats in the documentation: https://pandas.pydata.org/pandas-docs/stable/user_guide/indexing.html#returning-a-view-versus-a-copy\n",
            "  X['ext_col'] = label_encoder.fit_transform(X['ext_col'])\n",
            "<ipython-input-25-eb8995ca1490>:12: SettingWithCopyWarning: \n",
            "A value is trying to be set on a copy of a slice from a DataFrame.\n",
            "Try using .loc[row_indexer,col_indexer] = value instead\n",
            "\n",
            "See the caveats in the documentation: https://pandas.pydata.org/pandas-docs/stable/user_guide/indexing.html#returning-a-view-versus-a-copy\n",
            "  X['int_col'] = label_encoder.fit_transform(X['int_col'])\n",
            "<ipython-input-25-eb8995ca1490>:14: SettingWithCopyWarning: \n",
            "A value is trying to be set on a copy of a slice from a DataFrame.\n",
            "Try using .loc[row_indexer,col_indexer] = value instead\n",
            "\n",
            "See the caveats in the documentation: https://pandas.pydata.org/pandas-docs/stable/user_guide/indexing.html#returning-a-view-versus-a-copy\n",
            "  X['transmission'] = label_encoder.fit_transform(X['transmission'])\n",
            "<ipython-input-25-eb8995ca1490>:16: SettingWithCopyWarning: \n",
            "A value is trying to be set on a copy of a slice from a DataFrame.\n",
            "Try using .loc[row_indexer,col_indexer] = value instead\n",
            "\n",
            "See the caveats in the documentation: https://pandas.pydata.org/pandas-docs/stable/user_guide/indexing.html#returning-a-view-versus-a-copy\n",
            "  X['clean_title'] = label_encoder.fit_transform(X['clean_title'])\n",
            "<ipython-input-25-eb8995ca1490>:18: SettingWithCopyWarning: \n",
            "A value is trying to be set on a copy of a slice from a DataFrame.\n",
            "Try using .loc[row_indexer,col_indexer] = value instead\n",
            "\n",
            "See the caveats in the documentation: https://pandas.pydata.org/pandas-docs/stable/user_guide/indexing.html#returning-a-view-versus-a-copy\n",
            "  X['accident'] = label_encoder.fit_transform(X['accident'])\n",
            "<ipython-input-25-eb8995ca1490>:20: SettingWithCopyWarning: \n",
            "A value is trying to be set on a copy of a slice from a DataFrame.\n",
            "Try using .loc[row_indexer,col_indexer] = value instead\n",
            "\n",
            "See the caveats in the documentation: https://pandas.pydata.org/pandas-docs/stable/user_guide/indexing.html#returning-a-view-versus-a-copy\n",
            "  X['engine'] = label_encoder.fit_transform(X['engine'])\n"
          ]
        }
      ]
    },
    {
      "cell_type": "code",
      "source": [
        "print(X)"
      ],
      "metadata": {
        "colab": {
          "base_uri": "https://localhost:8080/"
        },
        "id": "HnT1UmjhPQ5M",
        "outputId": "c50e53d8-12b0-462c-e3d9-b9d37bc02d42"
      },
      "execution_count": 40,
      "outputs": [
        {
          "output_type": "stream",
          "name": "stdout",
          "text": [
            "        brand  model  model_year  milage  fuel_type  engine  transmission  \\\n",
            "0          31    495        2007  213000          2     116            38   \n",
            "1          28    930        2002  143250          2     366            38   \n",
            "2           9   1575        2002  136731          1     640            38   \n",
            "3          16    758        2017   19500          2     863            49   \n",
            "4          36   1077        2021    7388          2     259            23   \n",
            "...       ...    ...         ...     ...        ...     ...           ...   \n",
            "188528      8    604        2017   49000          2     866            49   \n",
            "188529     36    206        2018   28600          2     770            31   \n",
            "188530     36    223        2021   13650          2     921            23   \n",
            "188531      3   1471        2022   13895          2     512             1   \n",
            "188532     43   1028        2016   59500          2     364            49   \n",
            "\n",
            "        ext_col  int_col  accident  clean_title  \n",
            "0           312       71         0            0  \n",
            "1           263       10         0            0  \n",
            "2            38       71         0            0  \n",
            "3            29       14         0            0  \n",
            "4            29       10         0            0  \n",
            "...         ...      ...       ...          ...  \n",
            "188528      304       10         0            0  \n",
            "188529      304       14         0            0  \n",
            "188530      304       14         0            0  \n",
            "188531       82       14         0            0  \n",
            "188532      304       14         0            0  \n",
            "\n",
            "[188533 rows x 11 columns]\n"
          ]
        }
      ]
    },
    {
      "cell_type": "markdown",
      "source": [
        "Importing the RandomForestRegressor libraries"
      ],
      "metadata": {
        "id": "TAKRyjRhFR18"
      }
    },
    {
      "cell_type": "code",
      "source": [
        "from sklearn.ensemble import RandomForestRegressor\n",
        "from sklearn.metrics import mean_absolute_error\n",
        "\n",
        "forest_model = RandomForestRegressor(random_state=1)\n",
        "forest_model.fit(X, y)\n",
        "cars_preds = forest_model.predict(test_data[features])"
      ],
      "metadata": {
        "id": "dPmf3lIwFRbL"
      },
      "execution_count": 27,
      "outputs": []
    },
    {
      "cell_type": "markdown",
      "source": [
        "Converting the predictions to a csv file"
      ],
      "metadata": {
        "id": "avd5xp_vWSc6"
      }
    },
    {
      "cell_type": "code",
      "source": [
        "sumbission = pd.DataFrame({'id': test_data.id, 'price': cars_preds})\n",
        "\n",
        "sumbission.to_csv('submission.csv', index=False)"
      ],
      "metadata": {
        "id": "HHJwbUZNQL5p"
      },
      "execution_count": 39,
      "outputs": []
    },
    {
      "cell_type": "markdown",
      "source": [],
      "metadata": {
        "id": "Q_0PJT00Eg3I"
      }
    }
  ]
}